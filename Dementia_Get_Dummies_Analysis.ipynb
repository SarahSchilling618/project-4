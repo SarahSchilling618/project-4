{
  "nbformat": 4,
  "nbformat_minor": 0,
  "metadata": {
    "colab": {
      "provenance": [],
      "authorship_tag": "ABX9TyOUAwju5dqNJKb/axVg14+f",
      "include_colab_link": true
    },
    "kernelspec": {
      "name": "python3",
      "display_name": "Python 3"
    },
    "language_info": {
      "name": "python"
    }
  },
  "cells": [
    {
      "cell_type": "markdown",
      "metadata": {
        "id": "view-in-github",
        "colab_type": "text"
      },
      "source": [
        "<a href=\"https://colab.research.google.com/github/SarahSchilling618/project-4/blob/julius/Dementia_Get_Dummies_Analysis.ipynb\" target=\"_parent\"><img src=\"https://colab.research.google.com/assets/colab-badge.svg\" alt=\"Open In Colab\"/></a>"
      ]
    },
    {
      "cell_type": "code",
      "execution_count": 9,
      "metadata": {
        "colab": {
          "base_uri": "https://localhost:8080/"
        },
        "id": "z4e3fGsROkuS",
        "outputId": "25f961aa-4ab8-4abb-f496-8a9abe528aea"
      },
      "outputs": [
        {
          "output_type": "stream",
          "name": "stdout",
          "text": [
            "      Unnamed: 0  Diabetic  AlcoholLevel  HeartRate  BloodOxygenLevel  \\\n",
            "0              0         1      0.084974         98         96.230743   \n",
            "1              1         0      0.016973         78         93.032122   \n",
            "2              2         0      0.009000         89         93.566504   \n",
            "3              3         0      0.086437         60         93.906510   \n",
            "4              4         1      0.150747         67         97.508994   \n",
            "...          ...       ...           ...        ...               ...   \n",
            "1995        1995         1      0.125142         64         94.218010   \n",
            "1996        1996         1      0.172027         75         90.475116   \n",
            "1997        1997         1      0.100825         93         95.315495   \n",
            "1998        1998         1      0.017496         75         99.859658   \n",
            "1999        1999         0      0.030531         76         96.493361   \n",
            "\n",
            "      BodyTemperature     Weight  MRI_Delay  Dosage_in_mg  Age  \\\n",
            "0           36.224852  57.563978  36.421028           NaN   60   \n",
            "1           36.183874  56.832335  31.157633          12.0   61   \n",
            "2           37.326321  59.759066  37.640435           NaN   69   \n",
            "3           37.030620  58.266471  50.673992          23.0   78   \n",
            "4           36.062121  67.705027  27.810601          20.0   77   \n",
            "...               ...        ...        ...           ...  ...   \n",
            "1995        36.784245  88.915987  17.774594           NaN   66   \n",
            "1996        36.505481  70.731495   2.185273           NaN   65   \n",
            "1997        36.426666  87.881679  58.257832           NaN   72   \n",
            "1998        37.311496  59.076368   2.357196           NaN   72   \n",
            "1999        37.145344  87.038582  18.230950           5.0   70   \n",
            "\n",
            "      Cognitive_Test_Scores  Dementia  Prescription_Donepezil  \\\n",
            "0                        10         0                       0   \n",
            "1                         1         1                       0   \n",
            "2                         8         0                       0   \n",
            "3                         5         1                       1   \n",
            "4                         0         1                       0   \n",
            "...                     ...       ...                     ...   \n",
            "1995                      8         0                       0   \n",
            "1996                      9         0                       0   \n",
            "1997                      9         0                       0   \n",
            "1998                      9         0                       0   \n",
            "1999                      0         1                       0   \n",
            "\n",
            "      Prescription_Galantamine  Prescription_Memantine  \\\n",
            "0                            0                       0   \n",
            "1                            1                       0   \n",
            "2                            0                       0   \n",
            "3                            0                       0   \n",
            "4                            0                       1   \n",
            "...                        ...                     ...   \n",
            "1995                         0                       0   \n",
            "1996                         0                       0   \n",
            "1997                         0                       0   \n",
            "1998                         0                       0   \n",
            "1999                         0                       1   \n",
            "\n",
            "      Prescription_Rivastigmine  Prescription_None  \\\n",
            "0                             0                  1   \n",
            "1                             0                  0   \n",
            "2                             0                  1   \n",
            "3                             0                  0   \n",
            "4                             0                  0   \n",
            "...                         ...                ...   \n",
            "1995                          0                  1   \n",
            "1996                          0                  1   \n",
            "1997                          0                  1   \n",
            "1998                          0                  1   \n",
            "1999                          0                  0   \n",
            "\n",
            "      Education_Level_Diploma/Degree  Education_Level_No School  \\\n",
            "0                                  0                          0   \n",
            "1                                  0                          0   \n",
            "2                                  0                          0   \n",
            "3                                  0                          0   \n",
            "4                                  0                          0   \n",
            "...                              ...                        ...   \n",
            "1995                               1                          0   \n",
            "1996                               0                          0   \n",
            "1997                               0                          0   \n",
            "1998                               0                          0   \n",
            "1999                               1                          0   \n",
            "\n",
            "      Education_Level_Primary School  Education_Level_Secondary School  \\\n",
            "0                                  1                                 0   \n",
            "1                                  0                                 1   \n",
            "2                                  1                                 0   \n",
            "3                                  0                                 1   \n",
            "4                                  0                                 1   \n",
            "...                              ...                               ...   \n",
            "1995                               0                                 0   \n",
            "1996                               1                                 0   \n",
            "1997                               0                                 1   \n",
            "1998                               1                                 0   \n",
            "1999                               0                                 0   \n",
            "\n",
            "      Dominant_Hand_Left  Dominant_Hand_Right  Gender_Female  Gender_Male  \\\n",
            "0                      1                    0              1            0   \n",
            "1                      0                    1              0            1   \n",
            "2                      0                    1              0            1   \n",
            "3                      1                    0              1            0   \n",
            "4                      0                    1              0            1   \n",
            "...                  ...                  ...            ...          ...   \n",
            "1995                   0                    1              1            0   \n",
            "1996                   1                    0              1            0   \n",
            "1997                   0                    1              1            0   \n",
            "1998                   0                    1              0            1   \n",
            "1999                   0                    1              0            1   \n",
            "\n",
            "      Family_History_No  Family_History_Yes  Smoking_Status_0  \\\n",
            "0                     1                   0                 0   \n",
            "1                     1                   0                 0   \n",
            "2                     0                   1                 0   \n",
            "3                     0                   1                 0   \n",
            "4                     0                   1                 0   \n",
            "...                 ...                 ...               ...   \n",
            "1995                  0                   1                 1   \n",
            "1996                  1                   0                 1   \n",
            "1997                  1                   0                 1   \n",
            "1998                  1                   0                 0   \n",
            "1999                  0                   1                 1   \n",
            "\n",
            "      Smoking_Status_1  Smoking_Status_2  Smoking_Status_Current Smoker  \\\n",
            "0                    0                 0                              1   \n",
            "1                    0                 0                              0   \n",
            "2                    0                 0                              0   \n",
            "3                    0                 0                              0   \n",
            "4                    0                 0                              0   \n",
            "...                ...               ...                            ...   \n",
            "1995                 0                 0                              0   \n",
            "1996                 0                 0                              0   \n",
            "1997                 0                 0                              0   \n",
            "1998                 0                 1                              0   \n",
            "1999                 0                 0                              0   \n",
            "\n",
            "      Smoking_Status_Former Smoker  Smoking_Status_Never Smoked  APOE_4_0  \\\n",
            "0                                0                            0         0   \n",
            "1                                1                            0         0   \n",
            "2                                1                            0         0   \n",
            "3                                0                            1         0   \n",
            "4                                0                            1         0   \n",
            "...                            ...                          ...       ...   \n",
            "1995                             0                            0         1   \n",
            "1996                             0                            0         1   \n",
            "1997                             0                            0         0   \n",
            "1998                             0                            0         0   \n",
            "1999                             0                            0         0   \n",
            "\n",
            "      APOE_4_1  APOE_4_Negative  APOE_4_Positive  Physical_Activity_0  \\\n",
            "0            0                1                0                    0   \n",
            "1            0                0                1                    0   \n",
            "2            0                1                0                    0   \n",
            "3            0                1                0                    0   \n",
            "4            0                0                1                    0   \n",
            "...        ...              ...              ...                  ...   \n",
            "1995         0                0                0                    1   \n",
            "1996         0                0                0                    1   \n",
            "1997         1                0                0                    0   \n",
            "1998         1                0                0                    1   \n",
            "1999         1                0                0                    1   \n",
            "\n",
            "      Physical_Activity_1  Physical_Activity_2  \\\n",
            "0                       0                    0   \n",
            "1                       0                    0   \n",
            "2                       0                    0   \n",
            "3                       0                    0   \n",
            "4                       0                    0   \n",
            "...                   ...                  ...   \n",
            "1995                    0                    0   \n",
            "1996                    0                    0   \n",
            "1997                    1                    0   \n",
            "1998                    0                    0   \n",
            "1999                    0                    0   \n",
            "\n",
            "      Physical_Activity_Mild Activity  Physical_Activity_Moderate Activity  \\\n",
            "0                                   0                                    0   \n",
            "1                                   0                                    1   \n",
            "2                                   0                                    1   \n",
            "3                                   1                                    0   \n",
            "4                                   1                                    0   \n",
            "...                               ...                                  ...   \n",
            "1995                                0                                    0   \n",
            "1996                                0                                    0   \n",
            "1997                                0                                    0   \n",
            "1998                                0                                    0   \n",
            "1999                                0                                    0   \n",
            "\n",
            "      Physical_Activity_Sedentary  Depression_Status_0  Depression_Status_1  \\\n",
            "0                               1                    0                    0   \n",
            "1                               0                    0                    0   \n",
            "2                               0                    0                    0   \n",
            "3                               0                    0                    0   \n",
            "4                               0                    0                    0   \n",
            "...                           ...                  ...                  ...   \n",
            "1995                            0                    1                    0   \n",
            "1996                            0                    1                    0   \n",
            "1997                            0                    1                    0   \n",
            "1998                            0                    1                    0   \n",
            "1999                            0                    0                    1   \n",
            "\n",
            "      Depression_Status_No  Depression_Status_Yes  Medication_History_0  \\\n",
            "0                        1                      0                     0   \n",
            "1                        1                      0                     0   \n",
            "2                        1                      0                     0   \n",
            "3                        0                      1                     0   \n",
            "4                        1                      0                     0   \n",
            "...                    ...                    ...                   ...   \n",
            "1995                     0                      0                     1   \n",
            "1996                     0                      0                     0   \n",
            "1997                     0                      0                     0   \n",
            "1998                     0                      0                     0   \n",
            "1999                     0                      0                     0   \n",
            "\n",
            "      Medication_History_1  Medication_History_No  Medication_History_Yes  \\\n",
            "0                        0                      1                       0   \n",
            "1                        0                      0                       1   \n",
            "2                        0                      1                       0   \n",
            "3                        0                      0                       1   \n",
            "4                        0                      0                       1   \n",
            "...                    ...                    ...                     ...   \n",
            "1995                     0                      0                       0   \n",
            "1996                     1                      0                       0   \n",
            "1997                     1                      0                       0   \n",
            "1998                     1                      0                       0   \n",
            "1999                     1                      0                       0   \n",
            "\n",
            "      Nutrition_Diet_0  Nutrition_Diet_1  Nutrition_Diet_2  \\\n",
            "0                    0                 0                 0   \n",
            "1                    0                 0                 0   \n",
            "2                    0                 0                 0   \n",
            "3                    0                 0                 0   \n",
            "4                    0                 0                 0   \n",
            "...                ...               ...               ...   \n",
            "1995                 1                 0                 0   \n",
            "1996                 0                 0                 1   \n",
            "1997                 0                 0                 1   \n",
            "1998                 0                 0                 1   \n",
            "1999                 0                 1                 0   \n",
            "\n",
            "      Nutrition_Diet_Balanced Diet  Nutrition_Diet_Low-Carb Diet  \\\n",
            "0                                0                             1   \n",
            "1                                0                             1   \n",
            "2                                0                             0   \n",
            "3                                1                             0   \n",
            "4                                0                             1   \n",
            "...                            ...                           ...   \n",
            "1995                             0                             0   \n",
            "1996                             0                             0   \n",
            "1997                             0                             0   \n",
            "1998                             0                             0   \n",
            "1999                             0                             0   \n",
            "\n",
            "      Nutrition_Diet_Mediterranean Diet  Sleep_Quality_0  Sleep_Quality_1  \\\n",
            "0                                     0                0                0   \n",
            "1                                     0                0                0   \n",
            "2                                     1                0                0   \n",
            "3                                     0                0                0   \n",
            "4                                     0                0                0   \n",
            "...                                 ...              ...              ...   \n",
            "1995                                  0                1                0   \n",
            "1996                                  0                0                1   \n",
            "1997                                  0                1                0   \n",
            "1998                                  0                0                1   \n",
            "1999                                  0                1                0   \n",
            "\n",
            "      Sleep_Quality_Good  Sleep_Quality_Poor  Chronic_Health_Conditions_0  \\\n",
            "0                      0                   1                            0   \n",
            "1                      0                   1                            0   \n",
            "2                      0                   1                            0   \n",
            "3                      0                   1                            0   \n",
            "4                      1                   0                            0   \n",
            "...                  ...                 ...                          ...   \n",
            "1995                   0                   0                            0   \n",
            "1996                   0                   0                            0   \n",
            "1997                   0                   0                            0   \n",
            "1998                   0                   0                            0   \n",
            "1999                   0                   0                            0   \n",
            "\n",
            "      Chronic_Health_Conditions_1  Chronic_Health_Conditions_2  \\\n",
            "0                               0                            0   \n",
            "1                               0                            0   \n",
            "2                               0                            0   \n",
            "3                               0                            0   \n",
            "4                               0                            0   \n",
            "...                           ...                          ...   \n",
            "1995                            0                            1   \n",
            "1996                            0                            1   \n",
            "1997                            0                            1   \n",
            "1998                            0                            1   \n",
            "1999                            1                            0   \n",
            "\n",
            "      Chronic_Health_Conditions_3  Chronic_Health_Conditions_Diabetes  \\\n",
            "0                               0                                   1   \n",
            "1                               0                                   0   \n",
            "2                               0                                   0   \n",
            "3                               0                                   0   \n",
            "4                               0                                   1   \n",
            "...                           ...                                 ...   \n",
            "1995                            0                                   0   \n",
            "1996                            0                                   0   \n",
            "1997                            0                                   0   \n",
            "1998                            0                                   0   \n",
            "1999                            0                                   0   \n",
            "\n",
            "      Chronic_Health_Conditions_Heart Disease  \\\n",
            "0                                           0   \n",
            "1                                           1   \n",
            "2                                           1   \n",
            "3                                           0   \n",
            "4                                           0   \n",
            "...                                       ...   \n",
            "1995                                        0   \n",
            "1996                                        0   \n",
            "1997                                        0   \n",
            "1998                                        0   \n",
            "1999                                        0   \n",
            "\n",
            "      Chronic_Health_Conditions_Hypertension  Chronic_Health_Conditions_None  \n",
            "0                                          0                               0  \n",
            "1                                          0                               0  \n",
            "2                                          0                               0  \n",
            "3                                          1                               0  \n",
            "4                                          0                               0  \n",
            "...                                      ...                             ...  \n",
            "1995                                       0                               0  \n",
            "1996                                       0                               0  \n",
            "1997                                       0                               0  \n",
            "1998                                       0                               0  \n",
            "1999                                       0                               0  \n",
            "\n",
            "[2000 rows x 69 columns]\n"
          ]
        }
      ],
      "source": [
        "import pandas as pd\n",
        "\n",
        "# Replace 'file_path.csv' with the path to your CSV file\n",
        "file_path = \"C:\\\\Users\\\\juliu\\\\Downloads\\\\dementia_get_dummies.csv\"\n",
        "\n",
        "# Read the CSV file into a DataFrame\n",
        "df = pd.read_csv(file_path)\n",
        "\n",
        "# Display the DataFrame\n",
        "pd.set_option('display.max_columns', None)\n",
        "print(df)\n"
      ]
    },
    {
      "cell_type": "code",
      "source": [
        "import pandas as pd\n",
        "from sklearn.model_selection import train_test_split\n",
        "from sklearn.linear_model import LinearRegression, LogisticRegression\n",
        "from sklearn.metrics import mean_squared_error, accuracy_score"
      ],
      "metadata": {
        "id": "H1Sg_X0RPvpf"
      },
      "execution_count": 8,
      "outputs": []
    },
    {
      "cell_type": "code",
      "source": [
        "# Prepare the data for linear regression\n",
        "\n",
        "X_linear = df.drop(columns=[\"Dementia\"])\n",
        "y_linear = df[\"Dementia\"]\n",
        "\n",
        "# Split the data into training and testing sets for linear regression\n",
        "X_train_linear, X_test_linear, y_train_linear, y_test_linear = train_test_split(X_linear, y_linear, test_size=0.2, random_state=42)\n",
        "\n",
        "# Train the linear regression model\n",
        "linear_model = LinearRegression()\n",
        "linear_model.fit(X_train_linear, y_train_linear)\n",
        "\n",
        "# Make predictions on the test set for linear regression\n",
        "y_pred_linear = linear_model.predict(X_test_linear)\n",
        "\n",
        "# Evaluate the performance of the linear regression model\n",
        "mse_linear = mean_squared_error(y_test_linear, y_pred_linear)\n",
        "print(\"Mean Squared Error (MSE) for Linear Regression:\", mse_linear)\n",
        "\n"
      ],
      "metadata": {
        "colab": {
          "base_uri": "https://localhost:8080/"
        },
        "id": "KgDfKIVqP8Xp",
        "outputId": "45bd2f41-9568-4a72-959f-c9203d3da97e"
      },
      "execution_count": 14,
      "outputs": [
        {
          "output_type": "stream",
          "name": "stdout",
          "text": [
            "Mean Squared Error (MSE) for Linear Regression: 0.0\n"
          ]
        }
      ]
    },
    {
      "cell_type": "code",
      "source": [
        "X = df[\"Dementia\"].values.reshape(-1, 1)\n",
        "\n",
        "X[:5]"
      ],
      "metadata": {
        "colab": {
          "base_uri": "https://localhost:8080/"
        },
        "id": "p4it2dCsSpcI",
        "outputId": "4e1b2026-a942-460d-86e3-2da8864098c0"
      },
      "execution_count": 20,
      "outputs": [
        {
          "output_type": "execute_result",
          "data": {
            "text/plain": [
              "array([[1],\n",
              "       [1],\n",
              "       [1],\n",
              "       [1],\n",
              "       [1]], dtype=int64)"
            ]
          },
          "metadata": {},
          "execution_count": 20
        }
      ]
    },
    {
      "cell_type": "code",
      "source": [
        "X.shape"
      ],
      "metadata": {
        "colab": {
          "base_uri": "https://localhost:8080/"
        },
        "id": "ZCt-jepZS8YA",
        "outputId": "c89a8462-2ddf-4d13-b75a-218e8c19cae2"
      },
      "execution_count": 22,
      "outputs": [
        {
          "output_type": "execute_result",
          "data": {
            "text/plain": [
              "(970, 1)"
            ]
          },
          "metadata": {},
          "execution_count": 22
        }
      ]
    },
    {
      "cell_type": "code",
      "source": [
        "y = df[\"Diabetic\"]"
      ],
      "metadata": {
        "id": "DsGS9AbzTDo-"
      },
      "execution_count": 23,
      "outputs": []
    },
    {
      "cell_type": "code",
      "source": [
        "model = LinearRegression()"
      ],
      "metadata": {
        "id": "OC5CFKyWSeu-"
      },
      "execution_count": 24,
      "outputs": []
    },
    {
      "cell_type": "code",
      "source": [
        "model.fit(X, y)"
      ],
      "metadata": {
        "colab": {
          "base_uri": "https://localhost:8080/",
          "height": 74
        },
        "id": "bSItgTwJShED",
        "outputId": "4632bbc9-0f43-469a-af43-0f2cb296e0e7"
      },
      "execution_count": 25,
      "outputs": [
        {
          "output_type": "execute_result",
          "data": {
            "text/plain": [
              "LinearRegression()"
            ],
            "text/html": [
              "<style>#sk-container-id-1 {color: black;}#sk-container-id-1 pre{padding: 0;}#sk-container-id-1 div.sk-toggleable {background-color: white;}#sk-container-id-1 label.sk-toggleable__label {cursor: pointer;display: block;width: 100%;margin-bottom: 0;padding: 0.3em;box-sizing: border-box;text-align: center;}#sk-container-id-1 label.sk-toggleable__label-arrow:before {content: \"▸\";float: left;margin-right: 0.25em;color: #696969;}#sk-container-id-1 label.sk-toggleable__label-arrow:hover:before {color: black;}#sk-container-id-1 div.sk-estimator:hover label.sk-toggleable__label-arrow:before {color: black;}#sk-container-id-1 div.sk-toggleable__content {max-height: 0;max-width: 0;overflow: hidden;text-align: left;background-color: #f0f8ff;}#sk-container-id-1 div.sk-toggleable__content pre {margin: 0.2em;color: black;border-radius: 0.25em;background-color: #f0f8ff;}#sk-container-id-1 input.sk-toggleable__control:checked~div.sk-toggleable__content {max-height: 200px;max-width: 100%;overflow: auto;}#sk-container-id-1 input.sk-toggleable__control:checked~label.sk-toggleable__label-arrow:before {content: \"▾\";}#sk-container-id-1 div.sk-estimator input.sk-toggleable__control:checked~label.sk-toggleable__label {background-color: #d4ebff;}#sk-container-id-1 div.sk-label input.sk-toggleable__control:checked~label.sk-toggleable__label {background-color: #d4ebff;}#sk-container-id-1 input.sk-hidden--visually {border: 0;clip: rect(1px 1px 1px 1px);clip: rect(1px, 1px, 1px, 1px);height: 1px;margin: -1px;overflow: hidden;padding: 0;position: absolute;width: 1px;}#sk-container-id-1 div.sk-estimator {font-family: monospace;background-color: #f0f8ff;border: 1px dotted black;border-radius: 0.25em;box-sizing: border-box;margin-bottom: 0.5em;}#sk-container-id-1 div.sk-estimator:hover {background-color: #d4ebff;}#sk-container-id-1 div.sk-parallel-item::after {content: \"\";width: 100%;border-bottom: 1px solid gray;flex-grow: 1;}#sk-container-id-1 div.sk-label:hover label.sk-toggleable__label {background-color: #d4ebff;}#sk-container-id-1 div.sk-serial::before {content: \"\";position: absolute;border-left: 1px solid gray;box-sizing: border-box;top: 0;bottom: 0;left: 50%;z-index: 0;}#sk-container-id-1 div.sk-serial {display: flex;flex-direction: column;align-items: center;background-color: white;padding-right: 0.2em;padding-left: 0.2em;position: relative;}#sk-container-id-1 div.sk-item {position: relative;z-index: 1;}#sk-container-id-1 div.sk-parallel {display: flex;align-items: stretch;justify-content: center;background-color: white;position: relative;}#sk-container-id-1 div.sk-item::before, #sk-container-id-1 div.sk-parallel-item::before {content: \"\";position: absolute;border-left: 1px solid gray;box-sizing: border-box;top: 0;bottom: 0;left: 50%;z-index: -1;}#sk-container-id-1 div.sk-parallel-item {display: flex;flex-direction: column;z-index: 1;position: relative;background-color: white;}#sk-container-id-1 div.sk-parallel-item:first-child::after {align-self: flex-end;width: 50%;}#sk-container-id-1 div.sk-parallel-item:last-child::after {align-self: flex-start;width: 50%;}#sk-container-id-1 div.sk-parallel-item:only-child::after {width: 0;}#sk-container-id-1 div.sk-dashed-wrapped {border: 1px dashed gray;margin: 0 0.4em 0.5em 0.4em;box-sizing: border-box;padding-bottom: 0.4em;background-color: white;}#sk-container-id-1 div.sk-label label {font-family: monospace;font-weight: bold;display: inline-block;line-height: 1.2em;}#sk-container-id-1 div.sk-label-container {text-align: center;}#sk-container-id-1 div.sk-container {/* jupyter's `normalize.less` sets `[hidden] { display: none; }` but bootstrap.min.css set `[hidden] { display: none !important; }` so we also need the `!important` here to be able to override the default hidden behavior on the sphinx rendered scikit-learn.org. See: https://github.com/scikit-learn/scikit-learn/issues/21755 */display: inline-block !important;position: relative;}#sk-container-id-1 div.sk-text-repr-fallback {display: none;}</style><div id=\"sk-container-id-1\" class=\"sk-top-container\"><div class=\"sk-text-repr-fallback\"><pre>LinearRegression()</pre><b>In a Jupyter environment, please rerun this cell to show the HTML representation or trust the notebook. <br />On GitHub, the HTML representation is unable to render, please try loading this page with nbviewer.org.</b></div><div class=\"sk-container\" hidden><div class=\"sk-item\"><div class=\"sk-estimator sk-toggleable\"><input class=\"sk-toggleable__control sk-hidden--visually\" id=\"sk-estimator-id-1\" type=\"checkbox\" checked><label for=\"sk-estimator-id-1\" class=\"sk-toggleable__label sk-toggleable__label-arrow\">LinearRegression</label><div class=\"sk-toggleable__content\"><pre>LinearRegression()</pre></div></div></div></div></div>"
            ]
          },
          "metadata": {},
          "execution_count": 25
        }
      ]
    },
    {
      "cell_type": "code",
      "source": [
        "print(f\"Model's slope: {model.coef_}\")"
      ],
      "metadata": {
        "colab": {
          "base_uri": "https://localhost:8080/"
        },
        "id": "rMckxbLfSk4h",
        "outputId": "36af0530-3154-47a9-c5fe-bd57eb7f090b"
      },
      "execution_count": 26,
      "outputs": [
        {
          "output_type": "stream",
          "name": "stdout",
          "text": [
            "Model's slope: [0.]\n"
          ]
        }
      ]
    },
    {
      "cell_type": "code",
      "source": [
        "print(f\"Model's y-intercept: {model.intercept_}\")"
      ],
      "metadata": {
        "colab": {
          "base_uri": "https://localhost:8080/"
        },
        "id": "mJ5iiqWuTY3z",
        "outputId": "f73fc071-5844-4dfc-b290-651e695a87fc"
      },
      "execution_count": 27,
      "outputs": [
        {
          "output_type": "stream",
          "name": "stdout",
          "text": [
            "Model's y-intercept: 0.5360824742268041\n"
          ]
        }
      ]
    },
    {
      "cell_type": "code",
      "source": [
        "print(f\"Model's formula: y = {model.intercept_} + {model.coef_[0]}X\")"
      ],
      "metadata": {
        "colab": {
          "base_uri": "https://localhost:8080/"
        },
        "id": "2FTh-SaGTe5J",
        "outputId": "e93c3a94-5cc5-4cb7-a1b1-981607495200"
      },
      "execution_count": 28,
      "outputs": [
        {
          "output_type": "stream",
          "name": "stdout",
          "text": [
            "Model's formula: y = 0.5360824742268041 + 0.0X\n"
          ]
        }
      ]
    },
    {
      "cell_type": "code",
      "source": [
        "import pandas as pd\n",
        "from sklearn.model_selection import train_test_split\n",
        "from sklearn.ensemble import RandomForestClassifier\n",
        "from sklearn.metrics import accuracy_score, classification_report, confusion_matrix"
      ],
      "metadata": {
        "id": "ZQsKI5xVTne9"
      },
      "execution_count": 29,
      "outputs": []
    },
    {
      "cell_type": "code",
      "source": [
        "X = df.drop(columns=['Dementia'])  # Features\n",
        "y = df['Dementia']  # Target variable\n",
        "X_train, X_test, y_train, y_test = train_test_split(X, y, test_size=0.2, random_state=42)\n",
        "\n",
        "# Step 5: Train Model\n",
        "model = RandomForestClassifier(random_state=42)\n",
        "model.fit(X_train, y_train)\n",
        "\n",
        "# Step 6: Evaluate Model\n",
        "y_pred = model.predict(X_test)\n",
        "\n",
        "accuracy = accuracy_score(y_test, y_pred)\n",
        "print(\"Accuracy:\", accuracy)\n",
        "\n",
        "# Print classification report\n",
        "print(\"Classification Report:\")\n",
        "print(classification_report(y_test, y_pred))\n",
        "\n",
        "# Print confusion matrix\n",
        "print(\"Confusion Matrix:\")\n",
        "print(confusion_matrix(y_test, y_pred))"
      ],
      "metadata": {
        "colab": {
          "base_uri": "https://localhost:8080/"
        },
        "id": "u47mg6AYX5KF",
        "outputId": "b7882a80-9677-49c7-ceab-3c3fe2b815c2"
      },
      "execution_count": 30,
      "outputs": [
        {
          "output_type": "stream",
          "name": "stdout",
          "text": [
            "Accuracy: 1.0\n",
            "Classification Report:\n",
            "              precision    recall  f1-score   support\n",
            "\n",
            "           1       1.00      1.00      1.00       194\n",
            "\n",
            "    accuracy                           1.00       194\n",
            "   macro avg       1.00      1.00      1.00       194\n",
            "weighted avg       1.00      1.00      1.00       194\n",
            "\n",
            "Confusion Matrix:\n",
            "[[194]]\n"
          ]
        }
      ]
    },
    {
      "cell_type": "code",
      "source": [
        "X = df.drop(columns=['APOE_4_Positive', \"APOE_4_Negative\"])  # Features\n",
        "y = df['APOE_4_Positive']  # Target variable\n",
        "X_train, X_test, y_train, y_test = train_test_split(X, y, test_size=0.2, random_state=42)\n",
        "\n",
        "# Step 5: Train Model\n",
        "model = RandomForestClassifier(random_state=42)\n",
        "model.fit(X_train, y_train)\n",
        "\n",
        "# Step 6: Evaluate Model\n",
        "y_pred = model.predict(X_test)\n",
        "\n",
        "accuracy = accuracy_score(y_test, y_pred)\n",
        "print(\"Accuracy:\", accuracy)\n",
        "\n",
        "# Print classification report\n",
        "print(\"Classification Report:\")\n",
        "print(classification_report(y_test, y_pred))\n",
        "\n",
        "# Print confusion matrix\n",
        "print(\"Confusion Matrix:\")\n",
        "print(confusion_matrix(y_test, y_pred))"
      ],
      "metadata": {
        "colab": {
          "base_uri": "https://localhost:8080/"
        },
        "id": "4JMSwpZCYWDk",
        "outputId": "c2f66d9b-3b8f-4806-a783-d0967bc4ef18"
      },
      "execution_count": 38,
      "outputs": [
        {
          "output_type": "stream",
          "name": "stdout",
          "text": [
            "Accuracy: 0.9484536082474226\n",
            "Classification Report:\n",
            "              precision    recall  f1-score   support\n",
            "\n",
            "           0       1.00      0.91      0.95       109\n",
            "           1       0.89      1.00      0.94        85\n",
            "\n",
            "    accuracy                           0.95       194\n",
            "   macro avg       0.95      0.95      0.95       194\n",
            "weighted avg       0.95      0.95      0.95       194\n",
            "\n",
            "Confusion Matrix:\n",
            "[[99 10]\n",
            " [ 0 85]]\n"
          ]
        }
      ]
    },
    {
      "cell_type": "code",
      "source": [
        "X = df.drop(columns=['APOE_4_Positive', \"APOE_4_Negative\"])  # Features\n",
        "y = df['APOE_4_Negative']  # Target variable\n",
        "X_train, X_test, y_train, y_test = train_test_split(X, y, test_size=0.2, random_state=42)\n",
        "\n",
        "# Step 5: Train Model\n",
        "model = RandomForestClassifier(random_state=42)\n",
        "model.fit(X_train, y_train)\n",
        "\n",
        "# Step 6: Evaluate Model\n",
        "y_pred = model.predict(X_test)\n",
        "\n",
        "accuracy = accuracy_score(y_test, y_pred)\n",
        "print(\"Accuracy:\", accuracy)\n",
        "\n",
        "# Print classification report\n",
        "print(\"Classification Report:\")\n",
        "print(classification_report(y_test, y_pred))\n",
        "\n",
        "# Print confusion matrix\n",
        "print(\"Confusion Matrix:\")\n",
        "print(confusion_matrix(y_test, y_pred))"
      ],
      "metadata": {
        "colab": {
          "base_uri": "https://localhost:8080/"
        },
        "id": "LSEh8bfmY9BK",
        "outputId": "ffbaa644-ae95-4703-da1e-6a98c31d2f86"
      },
      "execution_count": 33,
      "outputs": [
        {
          "output_type": "stream",
          "name": "stdout",
          "text": [
            "Accuracy: 0.9484536082474226\n",
            "Classification Report:\n",
            "              precision    recall  f1-score   support\n",
            "\n",
            "           0       0.95      1.00      0.97       184\n",
            "           1       0.00      0.00      0.00        10\n",
            "\n",
            "    accuracy                           0.95       194\n",
            "   macro avg       0.47      0.50      0.49       194\n",
            "weighted avg       0.90      0.95      0.92       194\n",
            "\n",
            "Confusion Matrix:\n",
            "[[184   0]\n",
            " [ 10   0]]\n"
          ]
        },
        {
          "output_type": "stream",
          "name": "stderr",
          "text": [
            "C:\\Users\\juliu\\anaconda3\\Lib\\site-packages\\sklearn\\metrics\\_classification.py:1469: UndefinedMetricWarning: Precision and F-score are ill-defined and being set to 0.0 in labels with no predicted samples. Use `zero_division` parameter to control this behavior.\n",
            "  _warn_prf(average, modifier, msg_start, len(result))\n",
            "C:\\Users\\juliu\\anaconda3\\Lib\\site-packages\\sklearn\\metrics\\_classification.py:1469: UndefinedMetricWarning: Precision and F-score are ill-defined and being set to 0.0 in labels with no predicted samples. Use `zero_division` parameter to control this behavior.\n",
            "  _warn_prf(average, modifier, msg_start, len(result))\n",
            "C:\\Users\\juliu\\anaconda3\\Lib\\site-packages\\sklearn\\metrics\\_classification.py:1469: UndefinedMetricWarning: Precision and F-score are ill-defined and being set to 0.0 in labels with no predicted samples. Use `zero_division` parameter to control this behavior.\n",
            "  _warn_prf(average, modifier, msg_start, len(result))\n"
          ]
        }
      ]
    },
    {
      "cell_type": "code",
      "source": [
        "X = df.drop(columns=['Dementia','APOE_4_Positive', \"APOE_4_Negative\"])  # Features\n",
        "y = df['APOE_4_Positive']  # Target variable\n",
        "X_train, X_test, y_train, y_test = train_test_split(X, y, test_size=0.2, random_state=42)\n",
        "\n",
        "# Step 5: Train Model\n",
        "model = RandomForestClassifier(random_state=42)\n",
        "model.fit(X_train, y_train)\n",
        "\n",
        "# Step 6: Evaluate Model\n",
        "y_pred = model.predict(X_test)\n",
        "\n",
        "accuracy = accuracy_score(y_test, y_pred)\n",
        "print(\"Accuracy:\", accuracy)\n",
        "\n",
        "# Print classification report\n",
        "print(\"Classification Report:\")\n",
        "print(classification_report(y_test, y_pred))\n",
        "\n",
        "# Print confusion matrix\n",
        "print(\"Confusion Matrix:\")\n",
        "print(confusion_matrix(y_test, y_pred))"
      ],
      "metadata": {
        "colab": {
          "base_uri": "https://localhost:8080/"
        },
        "id": "NfsrPsh3ZFHl",
        "outputId": "f94f2c4b-3dee-40d8-fd1d-8262f6f857bf"
      },
      "execution_count": 34,
      "outputs": [
        {
          "output_type": "stream",
          "name": "stdout",
          "text": [
            "Accuracy: 0.9484536082474226\n",
            "Classification Report:\n",
            "              precision    recall  f1-score   support\n",
            "\n",
            "           0       1.00      0.91      0.95       109\n",
            "           1       0.89      1.00      0.94        85\n",
            "\n",
            "    accuracy                           0.95       194\n",
            "   macro avg       0.95      0.95      0.95       194\n",
            "weighted avg       0.95      0.95      0.95       194\n",
            "\n",
            "Confusion Matrix:\n",
            "[[99 10]\n",
            " [ 0 85]]\n"
          ]
        }
      ]
    }
  ]
}