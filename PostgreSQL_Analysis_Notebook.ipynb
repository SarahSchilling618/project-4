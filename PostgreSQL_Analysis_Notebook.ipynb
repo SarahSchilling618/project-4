{
  "nbformat": 4,
  "nbformat_minor": 0,
  "metadata": {
    "colab": {
      "provenance": [],
      "authorship_tag": "ABX9TyNS5suAbYP8pCPh7QFSnilZ",
      "include_colab_link": true
    },
    "kernelspec": {
      "name": "python3",
      "display_name": "Python 3"
    },
    "language_info": {
      "name": "python"
    }
  },
  "cells": [
    {
      "cell_type": "markdown",
      "metadata": {
        "id": "view-in-github",
        "colab_type": "text"
      },
      "source": [
        "<a href=\"https://colab.research.google.com/github/SarahSchilling618/project-4/blob/julius/PostgreSQL_Analysis_Notebook.ipynb\" target=\"_parent\"><img src=\"https://colab.research.google.com/assets/colab-badge.svg\" alt=\"Open In Colab\"/></a>"
      ]
    },
    {
      "cell_type": "code",
      "source": [
        "!pip install psycopg2-binary sqlalchemy"
      ],
      "metadata": {
        "colab": {
          "base_uri": "https://localhost:8080/"
        },
        "id": "XxcGyQ17JGKB",
        "outputId": "4978eda9-49bb-4f6c-f364-1c2f7a0f05f7"
      },
      "execution_count": 1,
      "outputs": [
        {
          "output_type": "stream",
          "name": "stdout",
          "text": [
            "Collecting psycopg2-binary\n",
            "  Obtaining dependency information for psycopg2-binary from https://files.pythonhosted.org/packages/25/1f/7ae31759142999a8d06b3e250c1346c4abcdcada8fa884376775dc1de686/psycopg2_binary-2.9.9-cp311-cp311-win_amd64.whl.metadata\n",
            "  Using cached psycopg2_binary-2.9.9-cp311-cp311-win_amd64.whl.metadata (4.6 kB)\n",
            "Requirement already satisfied: sqlalchemy in c:\\users\\juliu\\anaconda3\\lib\\site-packages (1.4.39)\n",
            "Requirement already satisfied: greenlet!=0.4.17 in c:\\users\\juliu\\anaconda3\\lib\\site-packages (from sqlalchemy) (2.0.1)\n",
            "Using cached psycopg2_binary-2.9.9-cp311-cp311-win_amd64.whl (1.2 MB)\n",
            "Installing collected packages: psycopg2-binary\n",
            "Successfully installed psycopg2-binary-2.9.9\n"
          ]
        }
      ]
    },
    {
      "cell_type": "code",
      "source": [
        "import psycopg2\n",
        "import pandas as pd\n",
        "\n",
        "# Database connection parameters\n",
        "user = 'postgres'\n",
        "password = 'postgres'\n",
        "host = 'localhost'\n",
        "port = '5432'\n",
        "dbname = 'Dementia'\n",
        "\n",
        "# Create a connection to the PostgreSQL database\n",
        "conn = psycopg2.connect(\n",
        "    dbname=dbname,\n",
        "    user=user,\n",
        "    password=password,\n",
        "    host=host,\n",
        "    port=port\n",
        ")\n",
        "\n",
        "# Create a cursor object\n",
        "cur = conn.cursor()\n",
        "\n",
        "# Define a query to get data from a table\n",
        "query = \"SELECT * FROM dementia\"\n",
        "\n",
        "# Execute the query\n",
        "cur.execute(query)\n",
        "\n",
        "# Fetch all rows from the executed query\n",
        "rows = cur.fetchall()\n",
        "\n",
        "# Convert the query result to a pandas DataFrame\n",
        "df = pd.DataFrame(rows, columns=[desc[0] for desc in cur.description])\n",
        "\n",
        "# Print the DataFrame\n",
        "pd.set_option('display.max_columns', None)\n",
        "print(df.head())\n",
        "\n",
        "# Close the cursor and connection\n",
        "cur.close()\n",
        "conn.close()\n"
      ],
      "metadata": {
        "colab": {
          "base_uri": "https://localhost:8080/"
        },
        "id": "gbVMrpYhH_JX",
        "outputId": "f5aec155-f668-445a-d4c5-9e4597d2f510"
      },
      "execution_count": 2,
      "outputs": [
        {
          "output_type": "stream",
          "name": "stdout",
          "text": [
            "   Diabetic  AlcoholLevel  HeartRate  BloodOxygenLevel  BodyTemperature  \\\n",
            "0         1      0.084974         98         96.230743        36.224852   \n",
            "1         0      0.016973         78         93.032122        36.183874   \n",
            "2         0      0.009000         89         93.566504        37.326321   \n",
            "3         0      0.086437         60         93.906510        37.030620   \n",
            "4         1      0.150747         67         97.508994        36.062121   \n",
            "\n",
            "      Weight  MRI_Delay Prescription  Dosage_in_mg  Age   Education_Level  \\\n",
            "0  57.563978  36.421028         None           NaN   60    Primary School   \n",
            "1  56.832335  31.157633  Galantamine          12.0   61  Secondary School   \n",
            "2  59.759066  37.640435         None           NaN   69    Primary School   \n",
            "3  58.266471  50.673992    Donepezil          23.0   78  Secondary School   \n",
            "4  67.705027  27.810601    Memantine          20.0   77  Secondary School   \n",
            "\n",
            "  Dominant_Hand  Gender Family_History  Smoking_Status    APOE_4  \\\n",
            "0          Left  Female             No  Current Smoker  Negative   \n",
            "1         Right    Male             No   Former Smoker  Positive   \n",
            "2         Right    Male            Yes   Former Smoker  Negative   \n",
            "3          Left  Female            Yes    Never Smoked  Negative   \n",
            "4         Right    Male            Yes    Never Smoked  Positive   \n",
            "\n",
            "   Physical_Activity Depression_Status  Cognitive_Test_Scores  \\\n",
            "0          Sedentary                No                     10   \n",
            "1  Moderate Activity                No                      1   \n",
            "2  Moderate Activity                No                      8   \n",
            "3      Mild Activity               Yes                      5   \n",
            "4      Mild Activity                No                      0   \n",
            "\n",
            "  Medication_History      Nutrition_Diet Sleep_Quality  \\\n",
            "0                 No       Low-Carb Diet          Poor   \n",
            "1                Yes       Low-Carb Diet          Poor   \n",
            "2                 No  Mediterranean Diet          Poor   \n",
            "3                Yes       Balanced Diet          Poor   \n",
            "4                Yes       Low-Carb Diet          Good   \n",
            "\n",
            "  Chronic_Health_Conditions  Dementia  \n",
            "0                  Diabetes         0  \n",
            "1             Heart Disease         1  \n",
            "2             Heart Disease         0  \n",
            "3              Hypertension         1  \n",
            "4                  Diabetes         1  \n"
          ]
        }
      ]
    },
    {
      "cell_type": "code",
      "source": [
        "from sklearn.model_selection import train_test_split\n",
        "from sklearn.linear_model import LinearRegression\n",
        "\n",
        "# Drop multiple columns using a list\n",
        "columns_to_drop = [\"Prescription\", \"Dosage_in_mg\", \"Education_Level\", \"Dominant_Hand\",\n",
        "                   \"Gender\", \"Family_History\", \"Smoking_Status\", \"APOE_4\",\n",
        "                   \"Physical_Activity\", \"Depression_Status\", \"Medication_History\",\n",
        "                   \"Nutrition_Diet\", \"Sleep_Quality\", \"Chronic_Health_Conditions\"]\n",
        "\n",
        "df.drop(columns_to_drop, axis=1, inplace=True)\n",
        "\n",
        "# Prepare the data\n",
        "X = df.drop(\"Dementia\", axis=1)\n",
        "y = df[\"Dementia\"]\n",
        "\n",
        "# Split the data\n",
        "X_train, X_test, y_train, y_test = train_test_split(X, y, test_size=0.2, random_state=42)\n",
        "\n",
        "# Train a model\n",
        "model = LinearRegression()\n",
        "model.fit(X_train, y_train)\n",
        "\n",
        "# Evaluate the model\n",
        "print(\"Model Coefficients:\", model.coef_)\n",
        "print(\"Model Intercept:\", model.intercept_)\n",
        "print(\"Model Score:\", model.score(X_test, y_test))\n",
        "\n"
      ],
      "metadata": {
        "colab": {
          "base_uri": "https://localhost:8080/"
        },
        "id": "67zzvEw2KOoY",
        "outputId": "35f92389-5193-4c55-966b-e7212a5e2ea6"
      },
      "execution_count": 5,
      "outputs": [
        {
          "output_type": "stream",
          "name": "stdout",
          "text": [
            "Model Coefficients: [ 0.0036735  -0.17571744  0.00126677 -0.00411813  0.02597953 -0.00061725\n",
            " -0.00076451 -0.00031451 -0.13352848]\n",
            "Model Intercept: 0.7817313411024698\n",
            "Model Score: 0.694760404034539\n"
          ]
        }
      ]
    },
    {
      "cell_type": "code",
      "source": [
        "dummies_df = pd.get_dummies(df)\n",
        "dummies_df"
      ],
      "metadata": {
        "colab": {
          "base_uri": "https://localhost:8080/",
          "height": 423
        },
        "id": "FnRRc3AeN06G",
        "outputId": "a9757bc0-f0bd-445e-eff3-fd47a6fba808"
      },
      "execution_count": 6,
      "outputs": [
        {
          "output_type": "execute_result",
          "data": {
            "text/plain": [
              "     Diabetic  AlcoholLevel  HeartRate  BloodOxygenLevel  BodyTemperature  \\\n",
              "0           1      0.084974         98         96.230743        36.224852   \n",
              "1           0      0.016973         78         93.032122        36.183874   \n",
              "2           0      0.009000         89         93.566504        37.326321   \n",
              "3           0      0.086437         60         93.906510        37.030620   \n",
              "4           1      0.150747         67         97.508994        36.062121   \n",
              "..        ...           ...        ...               ...              ...   \n",
              "995         1      0.081825         87         93.851963        36.495134   \n",
              "996         1      0.145249         97         94.522391        36.270804   \n",
              "997         1      0.073692         65         98.578388        37.065703   \n",
              "998         0      0.037347         71         91.298580        37.037202   \n",
              "999         0      0.085969         90         95.522825        36.026748   \n",
              "\n",
              "        Weight  MRI_Delay  Age  Cognitive_Test_Scores  Dementia  \n",
              "0    57.563978  36.421028   60                     10         0  \n",
              "1    56.832335  31.157633   61                      1         1  \n",
              "2    59.759066  37.640435   69                      8         0  \n",
              "3    58.266471  50.673992   78                      5         1  \n",
              "4    67.705027  27.810601   77                      0         1  \n",
              "..         ...        ...  ...                    ...       ...  \n",
              "995  50.380106  42.318663   88                      5         1  \n",
              "996  94.006484  52.812568   80                      9         0  \n",
              "997  80.088613  13.640229   67                      8         0  \n",
              "998  95.322210  17.445715   62                      2         1  \n",
              "999  57.671455  30.011838   80                     10         0  \n",
              "\n",
              "[1000 rows x 10 columns]"
            ],
            "text/html": [
              "<div>\n",
              "<style scoped>\n",
              "    .dataframe tbody tr th:only-of-type {\n",
              "        vertical-align: middle;\n",
              "    }\n",
              "\n",
              "    .dataframe tbody tr th {\n",
              "        vertical-align: top;\n",
              "    }\n",
              "\n",
              "    .dataframe thead th {\n",
              "        text-align: right;\n",
              "    }\n",
              "</style>\n",
              "<table border=\"1\" class=\"dataframe\">\n",
              "  <thead>\n",
              "    <tr style=\"text-align: right;\">\n",
              "      <th></th>\n",
              "      <th>Diabetic</th>\n",
              "      <th>AlcoholLevel</th>\n",
              "      <th>HeartRate</th>\n",
              "      <th>BloodOxygenLevel</th>\n",
              "      <th>BodyTemperature</th>\n",
              "      <th>Weight</th>\n",
              "      <th>MRI_Delay</th>\n",
              "      <th>Age</th>\n",
              "      <th>Cognitive_Test_Scores</th>\n",
              "      <th>Dementia</th>\n",
              "    </tr>\n",
              "  </thead>\n",
              "  <tbody>\n",
              "    <tr>\n",
              "      <th>0</th>\n",
              "      <td>1</td>\n",
              "      <td>0.084974</td>\n",
              "      <td>98</td>\n",
              "      <td>96.230743</td>\n",
              "      <td>36.224852</td>\n",
              "      <td>57.563978</td>\n",
              "      <td>36.421028</td>\n",
              "      <td>60</td>\n",
              "      <td>10</td>\n",
              "      <td>0</td>\n",
              "    </tr>\n",
              "    <tr>\n",
              "      <th>1</th>\n",
              "      <td>0</td>\n",
              "      <td>0.016973</td>\n",
              "      <td>78</td>\n",
              "      <td>93.032122</td>\n",
              "      <td>36.183874</td>\n",
              "      <td>56.832335</td>\n",
              "      <td>31.157633</td>\n",
              "      <td>61</td>\n",
              "      <td>1</td>\n",
              "      <td>1</td>\n",
              "    </tr>\n",
              "    <tr>\n",
              "      <th>2</th>\n",
              "      <td>0</td>\n",
              "      <td>0.009000</td>\n",
              "      <td>89</td>\n",
              "      <td>93.566504</td>\n",
              "      <td>37.326321</td>\n",
              "      <td>59.759066</td>\n",
              "      <td>37.640435</td>\n",
              "      <td>69</td>\n",
              "      <td>8</td>\n",
              "      <td>0</td>\n",
              "    </tr>\n",
              "    <tr>\n",
              "      <th>3</th>\n",
              "      <td>0</td>\n",
              "      <td>0.086437</td>\n",
              "      <td>60</td>\n",
              "      <td>93.906510</td>\n",
              "      <td>37.030620</td>\n",
              "      <td>58.266471</td>\n",
              "      <td>50.673992</td>\n",
              "      <td>78</td>\n",
              "      <td>5</td>\n",
              "      <td>1</td>\n",
              "    </tr>\n",
              "    <tr>\n",
              "      <th>4</th>\n",
              "      <td>1</td>\n",
              "      <td>0.150747</td>\n",
              "      <td>67</td>\n",
              "      <td>97.508994</td>\n",
              "      <td>36.062121</td>\n",
              "      <td>67.705027</td>\n",
              "      <td>27.810601</td>\n",
              "      <td>77</td>\n",
              "      <td>0</td>\n",
              "      <td>1</td>\n",
              "    </tr>\n",
              "    <tr>\n",
              "      <th>...</th>\n",
              "      <td>...</td>\n",
              "      <td>...</td>\n",
              "      <td>...</td>\n",
              "      <td>...</td>\n",
              "      <td>...</td>\n",
              "      <td>...</td>\n",
              "      <td>...</td>\n",
              "      <td>...</td>\n",
              "      <td>...</td>\n",
              "      <td>...</td>\n",
              "    </tr>\n",
              "    <tr>\n",
              "      <th>995</th>\n",
              "      <td>1</td>\n",
              "      <td>0.081825</td>\n",
              "      <td>87</td>\n",
              "      <td>93.851963</td>\n",
              "      <td>36.495134</td>\n",
              "      <td>50.380106</td>\n",
              "      <td>42.318663</td>\n",
              "      <td>88</td>\n",
              "      <td>5</td>\n",
              "      <td>1</td>\n",
              "    </tr>\n",
              "    <tr>\n",
              "      <th>996</th>\n",
              "      <td>1</td>\n",
              "      <td>0.145249</td>\n",
              "      <td>97</td>\n",
              "      <td>94.522391</td>\n",
              "      <td>36.270804</td>\n",
              "      <td>94.006484</td>\n",
              "      <td>52.812568</td>\n",
              "      <td>80</td>\n",
              "      <td>9</td>\n",
              "      <td>0</td>\n",
              "    </tr>\n",
              "    <tr>\n",
              "      <th>997</th>\n",
              "      <td>1</td>\n",
              "      <td>0.073692</td>\n",
              "      <td>65</td>\n",
              "      <td>98.578388</td>\n",
              "      <td>37.065703</td>\n",
              "      <td>80.088613</td>\n",
              "      <td>13.640229</td>\n",
              "      <td>67</td>\n",
              "      <td>8</td>\n",
              "      <td>0</td>\n",
              "    </tr>\n",
              "    <tr>\n",
              "      <th>998</th>\n",
              "      <td>0</td>\n",
              "      <td>0.037347</td>\n",
              "      <td>71</td>\n",
              "      <td>91.298580</td>\n",
              "      <td>37.037202</td>\n",
              "      <td>95.322210</td>\n",
              "      <td>17.445715</td>\n",
              "      <td>62</td>\n",
              "      <td>2</td>\n",
              "      <td>1</td>\n",
              "    </tr>\n",
              "    <tr>\n",
              "      <th>999</th>\n",
              "      <td>0</td>\n",
              "      <td>0.085969</td>\n",
              "      <td>90</td>\n",
              "      <td>95.522825</td>\n",
              "      <td>36.026748</td>\n",
              "      <td>57.671455</td>\n",
              "      <td>30.011838</td>\n",
              "      <td>80</td>\n",
              "      <td>10</td>\n",
              "      <td>0</td>\n",
              "    </tr>\n",
              "  </tbody>\n",
              "</table>\n",
              "<p>1000 rows × 10 columns</p>\n",
              "</div>"
            ]
          },
          "metadata": {},
          "execution_count": 6
        }
      ]
    },
    {
      "cell_type": "code",
      "source": [
        "dummies_df.columns"
      ],
      "metadata": {
        "colab": {
          "base_uri": "https://localhost:8080/"
        },
        "id": "d0bv7cxuOIBh",
        "outputId": "36e92ebf-b2f3-407d-d920-68f2a5c0a11e"
      },
      "execution_count": 7,
      "outputs": [
        {
          "output_type": "execute_result",
          "data": {
            "text/plain": [
              "Index(['Diabetic', 'AlcoholLevel', 'HeartRate', 'BloodOxygenLevel',\n",
              "       'BodyTemperature', 'Weight', 'MRI_Delay', 'Age',\n",
              "       'Cognitive_Test_Scores', 'Dementia'],\n",
              "      dtype='object')"
            ]
          },
          "metadata": {},
          "execution_count": 7
        }
      ]
    }
  ]
}